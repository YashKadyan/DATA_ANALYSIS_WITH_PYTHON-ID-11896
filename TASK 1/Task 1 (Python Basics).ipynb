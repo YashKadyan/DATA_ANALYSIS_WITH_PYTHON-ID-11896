{
 "cells": [
  {
   "cell_type": "code",
   "execution_count": 1,
   "id": "4bce82e8",
   "metadata": {},
   "outputs": [
    {
     "name": "stdout",
     "output_type": "stream",
     "text": [
      "Updated list: [10, 2, 4, 5, 6]\n"
     ]
    }
   ],
   "source": [
    "# creating a list\n",
    "my_list = [1, 2, 3, 4, 5]\n",
    "\n",
    "# adding an element to the list\n",
    "my_list.append(6)\n",
    "\n",
    "# removing an element from the list\n",
    "my_list.remove(3)\n",
    "\n",
    "# modifying an element in the list\n",
    "my_list[0] = 10\n",
    "\n",
    "print(\"Updated list:\", my_list)"
   ]
  },
  {
   "cell_type": "code",
   "execution_count": 2,
   "id": "b95e5d2a",
   "metadata": {},
   "outputs": [
    {
     "name": "stdout",
     "output_type": "stream",
     "text": [
      "Updated Dictionary: {'name': 'John', 'city': 'Mumbai', 'gender': 'Male'}\n"
     ]
    }
   ],
   "source": [
    "# creating dictionary\n",
    "my_dict = {'name' : 'John', 'age' : 25, 'city' : 'Delhi'}\n",
    "\n",
    "# adding\n",
    "my_dict['gender'] = 'Male'\n",
    "\n",
    "# removing\n",
    "del my_dict['age']\n",
    "\n",
    "# modifying\n",
    "my_dict['city'] = 'Mumbai'\n",
    "\n",
    "print('Updated Dictionary:', my_dict)"
   ]
  },
  {
   "cell_type": "code",
   "execution_count": 3,
   "id": "20c683c8",
   "metadata": {},
   "outputs": [
    {
     "name": "stdout",
     "output_type": "stream",
     "text": [
      "Updated Set: {2, 4, 5, 6, 10}\n"
     ]
    }
   ],
   "source": [
    "# creating a set\n",
    "my_set = {1, 2, 3, 4, 5}\n",
    "\n",
    "# adding\n",
    "my_set.add(6)\n",
    "\n",
    "# removing\n",
    "my_set.remove(3)\n",
    "\n",
    "# modifying\n",
    "my_set.discard(1)\n",
    "my_set.add(10)\n",
    "\n",
    "print(\"Updated Set:\", my_set)"
   ]
  },
  {
   "cell_type": "code",
   "execution_count": 9,
   "id": "a064ed97",
   "metadata": {},
   "outputs": [
    {
     "name": "stdout",
     "output_type": "stream",
     "text": [
      "3\n"
     ]
    }
   ],
   "source": [
    "# creating a tuple\n",
    "my_tuple = (1, 2, 3, 4, 5)\n",
    "\n",
    "# accessing\n",
    "print(my_tuple[2])"
   ]
  },
  {
   "cell_type": "code",
   "execution_count": 10,
   "id": "6bb92f34",
   "metadata": {},
   "outputs": [
    {
     "name": "stdout",
     "output_type": "stream",
     "text": [
      "Updated Tuple: (1, 6, 3, 4, 5)\n"
     ]
    }
   ],
   "source": [
    "# updating\n",
    "new_my_tuple = list(my_tuple)\n",
    "new_my_tuple[1] = 6\n",
    "my_tuple = tuple(new_my_tuple)\n",
    "print(\"Updated Tuple:\", my_tuple)"
   ]
  }
 ],
 "metadata": {
  "kernelspec": {
   "display_name": "Python 3 (ipykernel)",
   "language": "python",
   "name": "python3"
  },
  "language_info": {
   "codemirror_mode": {
    "name": "ipython",
    "version": 3
   },
   "file_extension": ".py",
   "mimetype": "text/x-python",
   "name": "python",
   "nbconvert_exporter": "python",
   "pygments_lexer": "ipython3",
   "version": "3.11.7"
  }
 },
 "nbformat": 4,
 "nbformat_minor": 5
}
